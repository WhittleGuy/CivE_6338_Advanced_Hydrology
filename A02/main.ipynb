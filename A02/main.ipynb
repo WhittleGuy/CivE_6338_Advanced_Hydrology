{
 "cells": [
  {
   "cell_type": "markdown",
   "metadata": {},
   "source": [
    "# Assignment Two\n",
    "\n",
    "CivE 6388 - Advanced Hydrology\n",
    "\n",
    "Brandon Whittle\n",
    "\n",
    "September 25, 2023"
   ]
  },
  {
   "cell_type": "markdown",
   "metadata": {},
   "source": [
    "## Problem One\n",
    "\n",
    "Given the following probability mass function: $p_x(x)=\\alpha x, x=1,2,3,...,9$ determine the value of $\\alpha$ that results in a legitimate mass function. Graph both the probability mass and cumulative distribution fuinctions. Use your programming skill and show how you calculate CDF."
   ]
  },
  {
   "cell_type": "code",
   "execution_count": null,
   "metadata": {},
   "outputs": [],
   "source": []
  },
  {
   "cell_type": "markdown",
   "metadata": {},
   "source": [
    "## Problem Two\n",
    "\n",
    "Solve the problem 3-32 (page 111) in the textbook. Use your programming skill and show how you solve the problem."
   ]
  },
  {
   "cell_type": "code",
   "execution_count": null,
   "metadata": {},
   "outputs": [],
   "source": []
  },
  {
   "cell_type": "markdown",
   "metadata": {},
   "source": [
    "## Problem Three\n",
    "\n",
    "Solve the problem 3-41 (page 112) in the textbook. Draw the probability desity and cumulative distribution functions using your programming skill."
   ]
  },
  {
   "cell_type": "code",
   "execution_count": null,
   "metadata": {},
   "outputs": [],
   "source": []
  },
  {
   "cell_type": "markdown",
   "metadata": {},
   "source": [
    "## Problem Four\n",
    "\n",
    "Solve the problem 3-43 (page 112). In addition, determine the mean, variance, standard deviation, coefficient of variation, and skewness. Use your programming skill, as necessary, to draw the probability density and cumulative distribution functions or to calculate the moments and statistics."
   ]
  },
  {
   "cell_type": "code",
   "execution_count": null,
   "metadata": {},
   "outputs": [],
   "source": []
  },
  {
   "cell_type": "markdown",
   "metadata": {},
   "source": [
    "## Problem Five\n",
    "\n",
    "Solve the problem 6-1 (page 221)."
   ]
  },
  {
   "cell_type": "code",
   "execution_count": null,
   "metadata": {},
   "outputs": [],
   "source": []
  },
  {
   "cell_type": "markdown",
   "metadata": {},
   "source": [
    "## Problem Six\n",
    "\n",
    "Solve the problem 6-9 (page 222)."
   ]
  },
  {
   "cell_type": "code",
   "execution_count": null,
   "metadata": {},
   "outputs": [],
   "source": []
  },
  {
   "cell_type": "markdown",
   "metadata": {},
   "source": [
    "## Problem Seven\n",
    "\n",
    "Two adjoining regions are subject to earthquakes at irregular intervals. The first region experiences $X_1$ earthquakes over a period of time, and $X_2$ earthquakes occur in the second region over the same period, where $X_1$ and $X_2$ are random variables. It is estimated that the joint distribution of earthquakes over the two regions is as follows:\n",
    "\n",
    "$$\n",
    "\\begin{align}\n",
    "    p_{X_1,X_2}(x_1,x_2) = \\frac{x_1+x_2}{21} &, \\text{ for }|x_1 = 0,1,2 \\text{ and } x_2 = 2,3 \\nonumber \\\\\n",
    "    0 &, \\text{ elsewhere}\n",
    "\\end{align}\n",
    "$$\n",
    "\n",
    "Determine the probabilities $p_{X_1|X_2}(x_1|x_2)$ and expected values $E[X_1|X_2]$."
   ]
  },
  {
   "cell_type": "code",
   "execution_count": null,
   "metadata": {},
   "outputs": [],
   "source": []
  },
  {
   "cell_type": "markdown",
   "metadata": {},
   "source": [
    "## Problem Eight\n",
    "\n",
    "Two sewage plants serving different communities discharge a pollutant into a stream. The concentrations of the respective discharges are measured as $X$ and $Y$ parts per million. Suppose the bivariate distribution is given by\n",
    "\n",
    "$$\n",
    "\\begin{equation}\n",
    "    f_{X,Y}(x,y) = 2-x-y \\text{ for } 0\\leq X, Y\\leq 1, \\text{ and } 0 \\text{ elsewhere}\n",
    "\\end{equation}\n",
    "$$\n",
    "\n",
    "a) Determine the joint probability $Pr[X<0.5, Y<0.6]$.\n",
    "\n",
    "b) If $X \\leq 0.5$, determine the distribution of $Y$.\n",
    "\n",
    "c) Determine the correlation between $X$ and $Y$."
   ]
  },
  {
   "cell_type": "code",
   "execution_count": null,
   "metadata": {},
   "outputs": [],
   "source": []
  }
 ],
 "metadata": {
  "kernelspec": {
   "display_name": "A02-fAuKJ3Ir",
   "language": "python",
   "name": "python3"
  },
  "language_info": {
   "name": "python",
   "version": "3.10.6"
  },
  "orig_nbformat": 4
 },
 "nbformat": 4,
 "nbformat_minor": 2
}
